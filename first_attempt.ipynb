{
  "nbformat": 4,
  "nbformat_minor": 0,
  "metadata": {
    "colab": {
      "name": "first attempt.ipynb",
      "provenance": [],
      "collapsed_sections": [],
      "authorship_tag": "ABX9TyPejc2e3wTRjRVT1v+pWTVn",
      "include_colab_link": true
    },
    "kernelspec": {
      "name": "python3",
      "display_name": "Python 3"
    },
    "language_info": {
      "name": "python"
    }
  },
  "cells": [
    {
      "cell_type": "markdown",
      "metadata": {
        "id": "view-in-github",
        "colab_type": "text"
      },
      "source": [
        "<a href=\"https://colab.research.google.com/github/deepanshupant2002/zee-media-internship/blob/main/first_attempt.ipynb\" target=\"_parent\"><img src=\"https://colab.research.google.com/assets/colab-badge.svg\" alt=\"Open In Colab\"/></a>"
      ]
    },
    {
      "cell_type": "code",
      "metadata": {
        "colab": {
          "base_uri": "https://localhost:8080/"
        },
        "id": "N33dy12Y5gyM",
        "outputId": "5f550cd9-0bea-4f9a-e152-fbf1b90a2560"
      },
      "source": [
        "import moviepy.editor as mp\n",
        "clip = mp.VideoFileClip(\"Imran Khans PTI Party Admits Pakistan Terrorists Carried out 2611 Terror Attack on India.3gpp\")\n",
        "clip.audio.write_audiofile(r\"audio_full.wav\")"
      ],
      "execution_count": null,
      "outputs": [
        {
          "output_type": "stream",
          "name": "stdout",
          "text": [
            "[MoviePy] Writing audio in audio_full.wav\n"
          ]
        },
        {
          "output_type": "stream",
          "name": "stderr",
          "text": [
            "100%|██████████| 1793/1793 [00:00<00:00, 2504.14it/s]"
          ]
        },
        {
          "output_type": "stream",
          "name": "stdout",
          "text": [
            "[MoviePy] Done.\n"
          ]
        },
        {
          "output_type": "stream",
          "name": "stderr",
          "text": [
            "\n"
          ]
        }
      ]
    },
    {
      "cell_type": "code",
      "metadata": {
        "id": "P3TFz4M-6Q30",
        "colab": {
          "base_uri": "https://localhost:8080/"
        },
        "outputId": "a7944000-badc-43bd-8c28-718b55062eed"
      },
      "source": [
        "pip install pydub"
      ],
      "execution_count": null,
      "outputs": [
        {
          "output_type": "stream",
          "name": "stdout",
          "text": [
            "Requirement already satisfied: pydub in /usr/local/lib/python3.7/dist-packages (0.25.1)\n"
          ]
        }
      ]
    },
    {
      "cell_type": "code",
      "metadata": {
        "colab": {
          "base_uri": "https://localhost:8080/"
        },
        "id": "8jnFUkA5JMLF",
        "outputId": "18e81a6e-61ba-4b55-a559-a9381eca56cc"
      },
      "source": [
        "pip install transformers"
      ],
      "execution_count": null,
      "outputs": [
        {
          "output_type": "stream",
          "name": "stdout",
          "text": [
            "Requirement already satisfied: transformers in /usr/local/lib/python3.7/dist-packages (4.11.2)\n",
            "Requirement already satisfied: numpy>=1.17 in /usr/local/lib/python3.7/dist-packages (from transformers) (1.19.5)\n",
            "Requirement already satisfied: regex!=2019.12.17 in /usr/local/lib/python3.7/dist-packages (from transformers) (2019.12.20)\n",
            "Requirement already satisfied: tokenizers<0.11,>=0.10.1 in /usr/local/lib/python3.7/dist-packages (from transformers) (0.10.3)\n",
            "Requirement already satisfied: requests in /usr/local/lib/python3.7/dist-packages (from transformers) (2.23.0)\n",
            "Requirement already satisfied: huggingface-hub>=0.0.17 in /usr/local/lib/python3.7/dist-packages (from transformers) (0.0.17)\n",
            "Requirement already satisfied: pyyaml>=5.1 in /usr/local/lib/python3.7/dist-packages (from transformers) (5.4.1)\n",
            "Requirement already satisfied: tqdm>=4.27 in /usr/local/lib/python3.7/dist-packages (from transformers) (4.62.3)\n",
            "Requirement already satisfied: packaging>=20.0 in /usr/local/lib/python3.7/dist-packages (from transformers) (21.0)\n",
            "Requirement already satisfied: importlib-metadata in /usr/local/lib/python3.7/dist-packages (from transformers) (4.8.1)\n",
            "Requirement already satisfied: sacremoses in /usr/local/lib/python3.7/dist-packages (from transformers) (0.0.46)\n",
            "Requirement already satisfied: filelock in /usr/local/lib/python3.7/dist-packages (from transformers) (3.0.12)\n",
            "Requirement already satisfied: typing-extensions in /usr/local/lib/python3.7/dist-packages (from huggingface-hub>=0.0.17->transformers) (3.7.4.3)\n",
            "Requirement already satisfied: pyparsing>=2.0.2 in /usr/local/lib/python3.7/dist-packages (from packaging>=20.0->transformers) (2.4.7)\n",
            "Requirement already satisfied: zipp>=0.5 in /usr/local/lib/python3.7/dist-packages (from importlib-metadata->transformers) (3.5.0)\n",
            "Requirement already satisfied: idna<3,>=2.5 in /usr/local/lib/python3.7/dist-packages (from requests->transformers) (2.10)\n",
            "Requirement already satisfied: chardet<4,>=3.0.2 in /usr/local/lib/python3.7/dist-packages (from requests->transformers) (3.0.4)\n",
            "Requirement already satisfied: certifi>=2017.4.17 in /usr/local/lib/python3.7/dist-packages (from requests->transformers) (2021.5.30)\n",
            "Requirement already satisfied: urllib3!=1.25.0,!=1.25.1,<1.26,>=1.21.1 in /usr/local/lib/python3.7/dist-packages (from requests->transformers) (1.24.3)\n",
            "Requirement already satisfied: click in /usr/local/lib/python3.7/dist-packages (from sacremoses->transformers) (7.1.2)\n",
            "Requirement already satisfied: joblib in /usr/local/lib/python3.7/dist-packages (from sacremoses->transformers) (1.0.1)\n",
            "Requirement already satisfied: six in /usr/local/lib/python3.7/dist-packages (from sacremoses->transformers) (1.15.0)\n"
          ]
        }
      ]
    },
    {
      "cell_type": "code",
      "metadata": {
        "colab": {
          "base_uri": "https://localhost:8080/"
        },
        "id": "9zT1zf615jST",
        "outputId": "3698be99-533e-4ce1-d0ef-79f1d61ebc63"
      },
      "source": [
        "from pydub import AudioSegment\n",
        "\n",
        "\n",
        "mp3_audio = AudioSegment.from_file(r\"audio_full.wav\", format=\"wav\")\n",
        "\n",
        "print(len(mp3_audio)/(1000*60))\n",
        "# 12 Minutes audio breaks into 3 minutes 4 audio files (slicingis done by milliseconds)\n",
        "\n",
        "counter_audio = 180\n",
        "split_audio = [mp3_audio[:180*1000]]\n",
        "for i in range(4):\n",
        "    split_audio.append(mp3_audio[counter_audio*1000:(counter_audio+180)*1000])\n",
        "    counter_audio += 180\n",
        "\n",
        "count = 0\n",
        "# # lets save it!\n",
        "for count, audio_object in enumerate(split_audio):\n",
        "    count += 1\n",
        "    with open(f\"{count}_audi_file.wav\", 'wb') as out_f:\n",
        "        audio_object.export(out_f, format='wav')"
      ],
      "execution_count": null,
      "outputs": [
        {
          "output_type": "stream",
          "name": "stdout",
          "text": [
            "1.3545\n"
          ]
        }
      ]
    },
    {
      "cell_type": "code",
      "metadata": {
        "colab": {
          "base_uri": "https://localhost:8080/"
        },
        "id": "Wz1Xwrmo6Bhx",
        "outputId": "849d109a-acfb-46f5-ffb6-28a6f636f909"
      },
      "source": [
        "import librosa\n",
        "import torch\n",
        "import transformers\n",
        "from transformers import Wav2Vec2ForCTC, Wav2Vec2Tokenizer,Wav2Vec2Processor\n",
        "\n",
        "# load model and tokenizer\n",
        "tokenizer = Wav2Vec2Tokenizer.from_pretrained(\"facebook/wav2vec2-base-960h\")\n",
        "# model = Wav2Vec2ForCTC.from_pretrained(\"facebook/wav2vec2-base-960h\")\n",
        "processor = Wav2Vec2Processor.from_pretrained(\"facebook/wav2vec2-base-960h\")\n",
        "# processor = Wav2Vec2Processor.from_pretrained(\"facebook/wav2vec2-base-960h\")\n",
        "model = Wav2Vec2ForCTC.from_pretrained(\"facebook/wav2vec2-base-960h\")\n",
        "# The base model pretrained and fine-tuned on 960 hours of Librispeech on 16kHz sampled speech audio.\n",
        "# When using the model make sure that your speech input is also sampled at 16Khz.\n",
        "\n",
        "# load any audio file of your choice\n",
        "collection_of_text = []\n",
        "for i in range(4):\n",
        "\n",
        "    speech, rate = librosa.load(f\"1_audi_file.wav\", sr=16000)\n",
        "\n",
        "    input_values = tokenizer(speech, return_tensors='pt').input_values\n",
        "    # Store logits (non-normalized predictions)\n",
        "    with torch.no_grad():\n",
        "        logits = model(input_values).logits\n",
        "\n",
        "    # Store predicted id's\n",
        "    predicted_ids = torch.argmax(logits, dim=-1)\n",
        "    # decode the audio to generate text\n",
        "    # Passing the prediction to the tokenzer decode to get the transcription\n",
        "    transcription = tokenizer.batch_decode(predicted_ids)[0]\n",
        "    # transcriptions = tokenizer.decode(predicted_ids[0])\n",
        "    print(transcription)\n",
        "    collection_of_text.append(transcription)\n",
        "\n",
        "print(collection_of_text)\n",
        "final_complete_speech = \"\"\n",
        "\n",
        "# convert batch of text into one complete sentence\n",
        "for i in collection_of_text:\n",
        "    final_complete_speech += i\n",
        "\n",
        "print(final_complete_speech)"
      ],
      "execution_count": null,
      "outputs": [
        {
          "output_type": "stream",
          "name": "stderr",
          "text": [
            "The tokenizer class you load from this checkpoint is not the same type as the class this function is called from. It may result in unexpected tokenization. \n",
            "The tokenizer class you load from this checkpoint is 'Wav2Vec2CTCTokenizer'. \n",
            "The class this function is called from is 'Wav2Vec2Tokenizer'.\n",
            "Some weights of Wav2Vec2ForCTC were not initialized from the model checkpoint at facebook/wav2vec2-base-960h and are newly initialized: ['wav2vec2.masked_spec_embed']\n",
            "You should probably TRAIN this model on a down-stream task to be able to use it for predictions and inference.\n"
          ]
        },
        {
          "output_type": "stream",
          "name": "stdout",
          "text": [
            "TDO ME YI HA TO YOU I TOOK YO IN HIM FOR TIME O DEAR DID I DID I SEE THET VER DENIED IN BRON BA BE RETMEN GA STAR AN A THAT RI TAN  IS TAT TIN WHEN ON M IS IN  I MEV IN TE SE EN WORK ONE AN THAT W YID TAT YESTIN WHEN WARK IS DONE I YO MOR IN FILDERDER DIN THA ON ME AN O GAT IT OP TA NAC AIN WHAT IS WRONG IN IT N WHAT IS WRONG IN  IS BELIEVON O ONE MIN ONE MIN ONE  YOU IN SAY YOU JUST SAY THAT ONE MAY HAVE DO SOM OT ABL OM ONE ONE IN IN IT ONE MA JST WONE ME JUST WHAT JUST JUST WONE JUST JUST ONE ON O WA I JUST ONE MINIT IGH IN IT BEGN O ONE MINUTE ONE MA YAN AL ONE MIN HAVE BEN A OT YOU  TAKE A OS RIT TA HE TERY INTERESTING MOMENT  BEWAS  HAV VERY INTERESTING MOMENT IN TA THE SPOS PORSON ON TE OTES TONE IT A REGAN TA AN HA SAID THAT E IS HEIS FORMERLY ADMITTING THANK YOU VERY MUCH ONE MINUTE MISTER SOMADO O HAVE TO STOP IT HERE ONE MAN YOU TO STOP IT HERE GINI BUKSHE CONSIDERED THE MOMENT THIS IS WHAT WE WERE WAITING FOR TO THEY OWN REPUBLIC THE SPOKE SPOSEEN OF THE PAGASTAN THAT HE CANSOFF I SAID THAT THIT IS ABSOLUTELY NOTHING WRONG THAT HIS GOVERNMENT IS INFANTRY T AT TETERIS AND MASO MIND ID AN YO BID AND CN IT OUT O CANRIT O THE MINING TO FILL I MO BATA\n",
            "TDO ME YI HA TO YOU I TOOK YO IN HIM FOR TIME O DEAR DID I DID I SEE THET VER DENIED IN BRON BA BE RETMEN GA STAR AN A THAT RI TAN  IS TAT TIN WHEN ON M IS IN  I MEV IN TE SE EN WORK ONE AN THAT W YID TAT YESTIN WHEN WARK IS DONE I YO MOR IN FILDERDER DIN THA ON ME AN O GAT IT OP TA NAC AIN WHAT IS WRONG IN IT N WHAT IS WRONG IN  IS BELIEVON O ONE MIN ONE MIN ONE  YOU IN SAY YOU JUST SAY THAT ONE MAY HAVE DO SOM OT ABL OM ONE ONE IN IN IT ONE MA JST WONE ME JUST WHAT JUST JUST WONE JUST JUST ONE ON O WA I JUST ONE MINIT IGH IN IT BEGN O ONE MINUTE ONE MA YAN AL ONE MIN HAVE BEN A OT YOU  TAKE A OS RIT TA HE TERY INTERESTING MOMENT  BEWAS  HAV VERY INTERESTING MOMENT IN TA THE SPOS PORSON ON TE OTES TONE IT A REGAN TA AN HA SAID THAT E IS HEIS FORMERLY ADMITTING THANK YOU VERY MUCH ONE MINUTE MISTER SOMADO O HAVE TO STOP IT HERE ONE MAN YOU TO STOP IT HERE GINI BUKSHE CONSIDERED THE MOMENT THIS IS WHAT WE WERE WAITING FOR TO THEY OWN REPUBLIC THE SPOKE SPOSEEN OF THE PAGASTAN THAT HE CANSOFF I SAID THAT THIT IS ABSOLUTELY NOTHING WRONG THAT HIS GOVERNMENT IS INFANTRY T AT TETERIS AND MASO MIND ID AN YO BID AND CN IT OUT O CANRIT O THE MINING TO FILL I MO BATA\n",
            "TDO ME YI HA TO YOU I TOOK YO IN HIM FOR TIME O DEAR DID I DID I SEE THET VER DENIED IN BRON BA BE RETMEN GA STAR AN A THAT RI TAN  IS TAT TIN WHEN ON M IS IN  I MEV IN TE SE EN WORK ONE AN THAT W YID TAT YESTIN WHEN WARK IS DONE I YO MOR IN FILDERDER DIN THA ON ME AN O GAT IT OP TA NAC AIN WHAT IS WRONG IN IT N WHAT IS WRONG IN  IS BELIEVON O ONE MIN ONE MIN ONE  YOU IN SAY YOU JUST SAY THAT ONE MAY HAVE DO SOM OT ABL OM ONE ONE IN IN IT ONE MA JST WONE ME JUST WHAT JUST JUST WONE JUST JUST ONE ON O WA I JUST ONE MINIT IGH IN IT BEGN O ONE MINUTE ONE MA YAN AL ONE MIN HAVE BEN A OT YOU  TAKE A OS RIT TA HE TERY INTERESTING MOMENT  BEWAS  HAV VERY INTERESTING MOMENT IN TA THE SPOS PORSON ON TE OTES TONE IT A REGAN TA AN HA SAID THAT E IS HEIS FORMERLY ADMITTING THANK YOU VERY MUCH ONE MINUTE MISTER SOMADO O HAVE TO STOP IT HERE ONE MAN YOU TO STOP IT HERE GINI BUKSHE CONSIDERED THE MOMENT THIS IS WHAT WE WERE WAITING FOR TO THEY OWN REPUBLIC THE SPOKE SPOSEEN OF THE PAGASTAN THAT HE CANSOFF I SAID THAT THIT IS ABSOLUTELY NOTHING WRONG THAT HIS GOVERNMENT IS INFANTRY T AT TETERIS AND MASO MIND ID AN YO BID AND CN IT OUT O CANRIT O THE MINING TO FILL I MO BATA\n",
            "TDO ME YI HA TO YOU I TOOK YO IN HIM FOR TIME O DEAR DID I DID I SEE THET VER DENIED IN BRON BA BE RETMEN GA STAR AN A THAT RI TAN  IS TAT TIN WHEN ON M IS IN  I MEV IN TE SE EN WORK ONE AN THAT W YID TAT YESTIN WHEN WARK IS DONE I YO MOR IN FILDERDER DIN THA ON ME AN O GAT IT OP TA NAC AIN WHAT IS WRONG IN IT N WHAT IS WRONG IN  IS BELIEVON O ONE MIN ONE MIN ONE  YOU IN SAY YOU JUST SAY THAT ONE MAY HAVE DO SOM OT ABL OM ONE ONE IN IN IT ONE MA JST WONE ME JUST WHAT JUST JUST WONE JUST JUST ONE ON O WA I JUST ONE MINIT IGH IN IT BEGN O ONE MINUTE ONE MA YAN AL ONE MIN HAVE BEN A OT YOU  TAKE A OS RIT TA HE TERY INTERESTING MOMENT  BEWAS  HAV VERY INTERESTING MOMENT IN TA THE SPOS PORSON ON TE OTES TONE IT A REGAN TA AN HA SAID THAT E IS HEIS FORMERLY ADMITTING THANK YOU VERY MUCH ONE MINUTE MISTER SOMADO O HAVE TO STOP IT HERE ONE MAN YOU TO STOP IT HERE GINI BUKSHE CONSIDERED THE MOMENT THIS IS WHAT WE WERE WAITING FOR TO THEY OWN REPUBLIC THE SPOKE SPOSEEN OF THE PAGASTAN THAT HE CANSOFF I SAID THAT THIT IS ABSOLUTELY NOTHING WRONG THAT HIS GOVERNMENT IS INFANTRY T AT TETERIS AND MASO MIND ID AN YO BID AND CN IT OUT O CANRIT O THE MINING TO FILL I MO BATA\n",
            "['TDO ME YI HA TO YOU I TOOK YO IN HIM FOR TIME O DEAR DID I DID I SEE THET VER DENIED IN BRON BA BE RETMEN GA STAR AN A THAT RI TAN  IS TAT TIN WHEN ON M IS IN  I MEV IN TE SE EN WORK ONE AN THAT W YID TAT YESTIN WHEN WARK IS DONE I YO MOR IN FILDERDER DIN THA ON ME AN O GAT IT OP TA NAC AIN WHAT IS WRONG IN IT N WHAT IS WRONG IN  IS BELIEVON O ONE MIN ONE MIN ONE  YOU IN SAY YOU JUST SAY THAT ONE MAY HAVE DO SOM OT ABL OM ONE ONE IN IN IT ONE MA JST WONE ME JUST WHAT JUST JUST WONE JUST JUST ONE ON O WA I JUST ONE MINIT IGH IN IT BEGN O ONE MINUTE ONE MA YAN AL ONE MIN HAVE BEN A OT YOU  TAKE A OS RIT TA HE TERY INTERESTING MOMENT  BEWAS  HAV VERY INTERESTING MOMENT IN TA THE SPOS PORSON ON TE OTES TONE IT A REGAN TA AN HA SAID THAT E IS HEIS FORMERLY ADMITTING THANK YOU VERY MUCH ONE MINUTE MISTER SOMADO O HAVE TO STOP IT HERE ONE MAN YOU TO STOP IT HERE GINI BUKSHE CONSIDERED THE MOMENT THIS IS WHAT WE WERE WAITING FOR TO THEY OWN REPUBLIC THE SPOKE SPOSEEN OF THE PAGASTAN THAT HE CANSOFF I SAID THAT THIT IS ABSOLUTELY NOTHING WRONG THAT HIS GOVERNMENT IS INFANTRY T AT TETERIS AND MASO MIND ID AN YO BID AND CN IT OUT O CANRIT O THE MINING TO FILL I MO BATA', 'TDO ME YI HA TO YOU I TOOK YO IN HIM FOR TIME O DEAR DID I DID I SEE THET VER DENIED IN BRON BA BE RETMEN GA STAR AN A THAT RI TAN  IS TAT TIN WHEN ON M IS IN  I MEV IN TE SE EN WORK ONE AN THAT W YID TAT YESTIN WHEN WARK IS DONE I YO MOR IN FILDERDER DIN THA ON ME AN O GAT IT OP TA NAC AIN WHAT IS WRONG IN IT N WHAT IS WRONG IN  IS BELIEVON O ONE MIN ONE MIN ONE  YOU IN SAY YOU JUST SAY THAT ONE MAY HAVE DO SOM OT ABL OM ONE ONE IN IN IT ONE MA JST WONE ME JUST WHAT JUST JUST WONE JUST JUST ONE ON O WA I JUST ONE MINIT IGH IN IT BEGN O ONE MINUTE ONE MA YAN AL ONE MIN HAVE BEN A OT YOU  TAKE A OS RIT TA HE TERY INTERESTING MOMENT  BEWAS  HAV VERY INTERESTING MOMENT IN TA THE SPOS PORSON ON TE OTES TONE IT A REGAN TA AN HA SAID THAT E IS HEIS FORMERLY ADMITTING THANK YOU VERY MUCH ONE MINUTE MISTER SOMADO O HAVE TO STOP IT HERE ONE MAN YOU TO STOP IT HERE GINI BUKSHE CONSIDERED THE MOMENT THIS IS WHAT WE WERE WAITING FOR TO THEY OWN REPUBLIC THE SPOKE SPOSEEN OF THE PAGASTAN THAT HE CANSOFF I SAID THAT THIT IS ABSOLUTELY NOTHING WRONG THAT HIS GOVERNMENT IS INFANTRY T AT TETERIS AND MASO MIND ID AN YO BID AND CN IT OUT O CANRIT O THE MINING TO FILL I MO BATA', 'TDO ME YI HA TO YOU I TOOK YO IN HIM FOR TIME O DEAR DID I DID I SEE THET VER DENIED IN BRON BA BE RETMEN GA STAR AN A THAT RI TAN  IS TAT TIN WHEN ON M IS IN  I MEV IN TE SE EN WORK ONE AN THAT W YID TAT YESTIN WHEN WARK IS DONE I YO MOR IN FILDERDER DIN THA ON ME AN O GAT IT OP TA NAC AIN WHAT IS WRONG IN IT N WHAT IS WRONG IN  IS BELIEVON O ONE MIN ONE MIN ONE  YOU IN SAY YOU JUST SAY THAT ONE MAY HAVE DO SOM OT ABL OM ONE ONE IN IN IT ONE MA JST WONE ME JUST WHAT JUST JUST WONE JUST JUST ONE ON O WA I JUST ONE MINIT IGH IN IT BEGN O ONE MINUTE ONE MA YAN AL ONE MIN HAVE BEN A OT YOU  TAKE A OS RIT TA HE TERY INTERESTING MOMENT  BEWAS  HAV VERY INTERESTING MOMENT IN TA THE SPOS PORSON ON TE OTES TONE IT A REGAN TA AN HA SAID THAT E IS HEIS FORMERLY ADMITTING THANK YOU VERY MUCH ONE MINUTE MISTER SOMADO O HAVE TO STOP IT HERE ONE MAN YOU TO STOP IT HERE GINI BUKSHE CONSIDERED THE MOMENT THIS IS WHAT WE WERE WAITING FOR TO THEY OWN REPUBLIC THE SPOKE SPOSEEN OF THE PAGASTAN THAT HE CANSOFF I SAID THAT THIT IS ABSOLUTELY NOTHING WRONG THAT HIS GOVERNMENT IS INFANTRY T AT TETERIS AND MASO MIND ID AN YO BID AND CN IT OUT O CANRIT O THE MINING TO FILL I MO BATA', 'TDO ME YI HA TO YOU I TOOK YO IN HIM FOR TIME O DEAR DID I DID I SEE THET VER DENIED IN BRON BA BE RETMEN GA STAR AN A THAT RI TAN  IS TAT TIN WHEN ON M IS IN  I MEV IN TE SE EN WORK ONE AN THAT W YID TAT YESTIN WHEN WARK IS DONE I YO MOR IN FILDERDER DIN THA ON ME AN O GAT IT OP TA NAC AIN WHAT IS WRONG IN IT N WHAT IS WRONG IN  IS BELIEVON O ONE MIN ONE MIN ONE  YOU IN SAY YOU JUST SAY THAT ONE MAY HAVE DO SOM OT ABL OM ONE ONE IN IN IT ONE MA JST WONE ME JUST WHAT JUST JUST WONE JUST JUST ONE ON O WA I JUST ONE MINIT IGH IN IT BEGN O ONE MINUTE ONE MA YAN AL ONE MIN HAVE BEN A OT YOU  TAKE A OS RIT TA HE TERY INTERESTING MOMENT  BEWAS  HAV VERY INTERESTING MOMENT IN TA THE SPOS PORSON ON TE OTES TONE IT A REGAN TA AN HA SAID THAT E IS HEIS FORMERLY ADMITTING THANK YOU VERY MUCH ONE MINUTE MISTER SOMADO O HAVE TO STOP IT HERE ONE MAN YOU TO STOP IT HERE GINI BUKSHE CONSIDERED THE MOMENT THIS IS WHAT WE WERE WAITING FOR TO THEY OWN REPUBLIC THE SPOKE SPOSEEN OF THE PAGASTAN THAT HE CANSOFF I SAID THAT THIT IS ABSOLUTELY NOTHING WRONG THAT HIS GOVERNMENT IS INFANTRY T AT TETERIS AND MASO MIND ID AN YO BID AND CN IT OUT O CANRIT O THE MINING TO FILL I MO BATA']\n",
            "TDO ME YI HA TO YOU I TOOK YO IN HIM FOR TIME O DEAR DID I DID I SEE THET VER DENIED IN BRON BA BE RETMEN GA STAR AN A THAT RI TAN  IS TAT TIN WHEN ON M IS IN  I MEV IN TE SE EN WORK ONE AN THAT W YID TAT YESTIN WHEN WARK IS DONE I YO MOR IN FILDERDER DIN THA ON ME AN O GAT IT OP TA NAC AIN WHAT IS WRONG IN IT N WHAT IS WRONG IN  IS BELIEVON O ONE MIN ONE MIN ONE  YOU IN SAY YOU JUST SAY THAT ONE MAY HAVE DO SOM OT ABL OM ONE ONE IN IN IT ONE MA JST WONE ME JUST WHAT JUST JUST WONE JUST JUST ONE ON O WA I JUST ONE MINIT IGH IN IT BEGN O ONE MINUTE ONE MA YAN AL ONE MIN HAVE BEN A OT YOU  TAKE A OS RIT TA HE TERY INTERESTING MOMENT  BEWAS  HAV VERY INTERESTING MOMENT IN TA THE SPOS PORSON ON TE OTES TONE IT A REGAN TA AN HA SAID THAT E IS HEIS FORMERLY ADMITTING THANK YOU VERY MUCH ONE MINUTE MISTER SOMADO O HAVE TO STOP IT HERE ONE MAN YOU TO STOP IT HERE GINI BUKSHE CONSIDERED THE MOMENT THIS IS WHAT WE WERE WAITING FOR TO THEY OWN REPUBLIC THE SPOKE SPOSEEN OF THE PAGASTAN THAT HE CANSOFF I SAID THAT THIT IS ABSOLUTELY NOTHING WRONG THAT HIS GOVERNMENT IS INFANTRY T AT TETERIS AND MASO MIND ID AN YO BID AND CN IT OUT O CANRIT O THE MINING TO FILL I MO BATATDO ME YI HA TO YOU I TOOK YO IN HIM FOR TIME O DEAR DID I DID I SEE THET VER DENIED IN BRON BA BE RETMEN GA STAR AN A THAT RI TAN  IS TAT TIN WHEN ON M IS IN  I MEV IN TE SE EN WORK ONE AN THAT W YID TAT YESTIN WHEN WARK IS DONE I YO MOR IN FILDERDER DIN THA ON ME AN O GAT IT OP TA NAC AIN WHAT IS WRONG IN IT N WHAT IS WRONG IN  IS BELIEVON O ONE MIN ONE MIN ONE  YOU IN SAY YOU JUST SAY THAT ONE MAY HAVE DO SOM OT ABL OM ONE ONE IN IN IT ONE MA JST WONE ME JUST WHAT JUST JUST WONE JUST JUST ONE ON O WA I JUST ONE MINIT IGH IN IT BEGN O ONE MINUTE ONE MA YAN AL ONE MIN HAVE BEN A OT YOU  TAKE A OS RIT TA HE TERY INTERESTING MOMENT  BEWAS  HAV VERY INTERESTING MOMENT IN TA THE SPOS PORSON ON TE OTES TONE IT A REGAN TA AN HA SAID THAT E IS HEIS FORMERLY ADMITTING THANK YOU VERY MUCH ONE MINUTE MISTER SOMADO O HAVE TO STOP IT HERE ONE MAN YOU TO STOP IT HERE GINI BUKSHE CONSIDERED THE MOMENT THIS IS WHAT WE WERE WAITING FOR TO THEY OWN REPUBLIC THE SPOKE SPOSEEN OF THE PAGASTAN THAT HE CANSOFF I SAID THAT THIT IS ABSOLUTELY NOTHING WRONG THAT HIS GOVERNMENT IS INFANTRY T AT TETERIS AND MASO MIND ID AN YO BID AND CN IT OUT O CANRIT O THE MINING TO FILL I MO BATATDO ME YI HA TO YOU I TOOK YO IN HIM FOR TIME O DEAR DID I DID I SEE THET VER DENIED IN BRON BA BE RETMEN GA STAR AN A THAT RI TAN  IS TAT TIN WHEN ON M IS IN  I MEV IN TE SE EN WORK ONE AN THAT W YID TAT YESTIN WHEN WARK IS DONE I YO MOR IN FILDERDER DIN THA ON ME AN O GAT IT OP TA NAC AIN WHAT IS WRONG IN IT N WHAT IS WRONG IN  IS BELIEVON O ONE MIN ONE MIN ONE  YOU IN SAY YOU JUST SAY THAT ONE MAY HAVE DO SOM OT ABL OM ONE ONE IN IN IT ONE MA JST WONE ME JUST WHAT JUST JUST WONE JUST JUST ONE ON O WA I JUST ONE MINIT IGH IN IT BEGN O ONE MINUTE ONE MA YAN AL ONE MIN HAVE BEN A OT YOU  TAKE A OS RIT TA HE TERY INTERESTING MOMENT  BEWAS  HAV VERY INTERESTING MOMENT IN TA THE SPOS PORSON ON TE OTES TONE IT A REGAN TA AN HA SAID THAT E IS HEIS FORMERLY ADMITTING THANK YOU VERY MUCH ONE MINUTE MISTER SOMADO O HAVE TO STOP IT HERE ONE MAN YOU TO STOP IT HERE GINI BUKSHE CONSIDERED THE MOMENT THIS IS WHAT WE WERE WAITING FOR TO THEY OWN REPUBLIC THE SPOKE SPOSEEN OF THE PAGASTAN THAT HE CANSOFF I SAID THAT THIT IS ABSOLUTELY NOTHING WRONG THAT HIS GOVERNMENT IS INFANTRY T AT TETERIS AND MASO MIND ID AN YO BID AND CN IT OUT O CANRIT O THE MINING TO FILL I MO BATATDO ME YI HA TO YOU I TOOK YO IN HIM FOR TIME O DEAR DID I DID I SEE THET VER DENIED IN BRON BA BE RETMEN GA STAR AN A THAT RI TAN  IS TAT TIN WHEN ON M IS IN  I MEV IN TE SE EN WORK ONE AN THAT W YID TAT YESTIN WHEN WARK IS DONE I YO MOR IN FILDERDER DIN THA ON ME AN O GAT IT OP TA NAC AIN WHAT IS WRONG IN IT N WHAT IS WRONG IN  IS BELIEVON O ONE MIN ONE MIN ONE  YOU IN SAY YOU JUST SAY THAT ONE MAY HAVE DO SOM OT ABL OM ONE ONE IN IN IT ONE MA JST WONE ME JUST WHAT JUST JUST WONE JUST JUST ONE ON O WA I JUST ONE MINIT IGH IN IT BEGN O ONE MINUTE ONE MA YAN AL ONE MIN HAVE BEN A OT YOU  TAKE A OS RIT TA HE TERY INTERESTING MOMENT  BEWAS  HAV VERY INTERESTING MOMENT IN TA THE SPOS PORSON ON TE OTES TONE IT A REGAN TA AN HA SAID THAT E IS HEIS FORMERLY ADMITTING THANK YOU VERY MUCH ONE MINUTE MISTER SOMADO O HAVE TO STOP IT HERE ONE MAN YOU TO STOP IT HERE GINI BUKSHE CONSIDERED THE MOMENT THIS IS WHAT WE WERE WAITING FOR TO THEY OWN REPUBLIC THE SPOKE SPOSEEN OF THE PAGASTAN THAT HE CANSOFF I SAID THAT THIT IS ABSOLUTELY NOTHING WRONG THAT HIS GOVERNMENT IS INFANTRY T AT TETERIS AND MASO MIND ID AN YO BID AND CN IT OUT O CANRIT O THE MINING TO FILL I MO BATA\n"
          ]
        }
      ]
    },
    {
      "cell_type": "markdown",
      "metadata": {
        "id": "K0FDeGiplDeG"
      },
      "source": [
        "# New Section"
      ]
    },
    {
      "cell_type": "markdown",
      "metadata": {
        "id": "5xP9u8vtlD6k"
      },
      "source": [
        "# New Section"
      ]
    },
    {
      "cell_type": "code",
      "metadata": {
        "id": "uaKOivRgJYIq"
      },
      "source": [
        ""
      ],
      "execution_count": null,
      "outputs": []
    }
  ]
}